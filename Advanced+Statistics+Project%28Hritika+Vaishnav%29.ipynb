{
 "cells": [
  {
   "cell_type": "markdown",
   "id": "6fe39886",
   "metadata": {},
   "source": [
    "# Advanced Statistics Project"
   ]
  },
  {
   "cell_type": "markdown",
   "id": "ea011fab",
   "metadata": {},
   "source": [
    "## Importing necessary libraries"
   ]
  },
  {
   "cell_type": "code",
   "execution_count": 1,
   "id": "a6810fcc",
   "metadata": {},
   "outputs": [],
   "source": [
    "# import the important packages\n",
    "import pandas as pd  # library used for data manipulation and analysis\n",
    "\n",
    "import numpy as np  # library used for working with arrays\n",
    "\n",
    "import matplotlib.pyplot as plt  # library for visualization\n",
    "\n",
    "import seaborn as sns  # library for visualization\n",
    "\n",
    "%matplotlib inline\n",
    "\n",
    "# To avoiding Warnings\n",
    "from warnings import filterwarnings\n",
    "filterwarnings('ignore')\n",
    "\n",
    "import scipy.stats as stats  # this library contains a large number of probability distributions as well as a growing library of statistical functions\n",
    "\n",
    "from scipy.stats import norm\n",
    "\n",
    "from scipy.stats import ttest_1samp, ttest_ind, chi2_contingency,t,ttest_rel\n",
    "\n",
    "from statsmodels.formula.api import ols      # For n-way ANOVA\n",
    "from statsmodels.stats.anova import _get_covariance,anova_lm # For n-way ANOV\n",
    "\n",
    "from scipy.stats import levene\n",
    "\n",
    "from scipy.stats import f_oneway\n",
    "\n",
    "import statsmodels.api as sm"
   ]
  },
  {
   "cell_type": "markdown",
   "id": "a8a41e80",
   "metadata": {},
   "source": [
    "## Problem 1\n",
    "\n",
    "A physiotherapist with a male football team is interested in studying the relationship between foot injuries and the positions at which the players play from the data collected"
   ]
  },
  {
   "cell_type": "code",
   "execution_count": 2,
   "id": "70007568",
   "metadata": {},
   "outputs": [
    {
     "data": {
      "image/png": "[encoded data removed]",
      "text/plain": [
       "<IPython.core.display.Image object>"
      ]
     },
     "execution_count": 2,
     "metadata": {},
     "output_type": "execute_result"
    }
   ],
   "source": [
    "from IPython.display import Image\n",
    "Image('football team.png')"
   ]
  },
  {
   "cell_type": "markdown",
   "id": "81fc6d6e",
   "metadata": {},
   "source": [
    "### 1.1 What is the probability that a randomly chosen player would suffer an injury?"
   ]
  },
  {
   "cell_type": "code",
   "execution_count": 3,
   "id": "c21675ac",
   "metadata": {},
   "outputs": [
    {
     "name": "stdout",
     "output_type": "stream",
     "text": [
      "The probability that a randomly chosen player would suffer an injury 0.6170212765957447\n"
     ]
    }
   ],
   "source": [
    "print('The probability that a randomly chosen player would suffer an injury',(145/235))"
   ]
  },
  {
   "cell_type": "markdown",
   "id": "49727c63",
   "metadata": {},
   "source": [
    "* 61.70% of players are suffer."
   ]
  },
  {
   "cell_type": "markdown",
   "id": "9f2956e0",
   "metadata": {},
   "source": [
    "### 1.2 What is the probability that a player is a forward or a winger?"
   ]
  },
  {
   "cell_type": "code",
   "execution_count": 4,
   "id": "224ff2c4",
   "metadata": {},
   "outputs": [
    {
     "name": "stdout",
     "output_type": "stream",
     "text": [
      "The probability that a player is a forward or a winger 0.5234042553191489\n"
     ]
    }
   ],
   "source": [
    "forwardandwinger = 94+29\n",
    "\n",
    "print('The probability that a player is a forward or a winger',(forwardandwinger/235))"
   ]
  },
  {
   "cell_type": "markdown",
   "id": "9e18954e",
   "metadata": {},
   "source": [
    "* 52.34% of players are forward and winger."
   ]
  },
  {
   "cell_type": "markdown",
   "id": "de45bd1d",
   "metadata": {},
   "source": [
    "### 1.3 What is the probability that a randomly chosen player plays in a striker position and has a foot injury?"
   ]
  },
  {
   "cell_type": "code",
   "execution_count": 5,
   "id": "5143da7d",
   "metadata": {},
   "outputs": [
    {
     "name": "stdout",
     "output_type": "stream",
     "text": [
      "The probability that a randomly chosen player plays in a striker position and has a foot injury 0.5844155844155844\n"
     ]
    }
   ],
   "source": [
    "print('The probability that a randomly chosen player plays in a striker position and has a foot injury',(45/77))"
   ]
  },
  {
   "cell_type": "markdown",
   "id": "0b1394b0",
   "metadata": {},
   "source": [
    "* 58.44% of player plays in a striker position and has a foot injury."
   ]
  },
  {
   "cell_type": "markdown",
   "id": "dad5478e",
   "metadata": {},
   "source": [
    "### 1.4 What is the probability that a randomly chosen injured player is a striker?"
   ]
  },
  {
   "cell_type": "code",
   "execution_count": 6,
   "id": "61551e42",
   "metadata": {},
   "outputs": [
    {
     "name": "stdout",
     "output_type": "stream",
     "text": [
      "The probability that a randomly chosen injured player is a striker 0.3103448275862069\n"
     ]
    }
   ],
   "source": [
    "print('The probability that a randomly chosen injured player is a striker',45/145)"
   ]
  },
  {
   "cell_type": "markdown",
   "id": "c76737f8",
   "metadata": {},
   "source": [
    "* 31.03% of randomly chosen injured player is a striker."
   ]
  },
  {
   "cell_type": "markdown",
   "id": "577d41b4",
   "metadata": {},
   "source": [
    "### 1.5 What is the probability that a randomly chosen injured player is either a forward or an attacking midfielder? "
   ]
  },
  {
   "cell_type": "code",
   "execution_count": 7,
   "id": "82777379",
   "metadata": {},
   "outputs": [
    {
     "name": "stdout",
     "output_type": "stream",
     "text": [
      "The probability that a randomly chosen injured player is either a forward or an attacking midfielder 0.5517241379310345\n"
     ]
    }
   ],
   "source": [
    "forward_attacking=56+24\n",
    "print('The probability that a randomly chosen injured player is either a forward or an attacking midfielder',forward_attacking/145)"
   ]
  },
  {
   "cell_type": "markdown",
   "id": "b22b1df4",
   "metadata": {},
   "source": [
    "* 55.17% of randomly chosen injured player is either a forward or an attacking midfielder."
   ]
  },
  {
   "cell_type": "markdown",
   "id": "85ac5d21",
   "metadata": {},
   "source": [
    "## Problem 2\n",
    "\n",
    "An independent research organization is trying to estimate the probability that an accident at a nuclear power plant will result in radiation leakage. The types of accidents possible at the plant are, fire hazards, mechanical failure, or human error. The research organization also knows that two or more types of accidents cannot occur simultaneously.\n",
    "\n",
    "According to the studies carried out by the organization, the probability of a radiation leak in case of a fire is 20%, the probability of a radiation leak in case of a mechanical 50%, and the probability of a radiation leak in case of a human error is 10%. The studies also showed the following;\n",
    "\n",
    "- The probability of a radiation leak occurring simultaneously with a fire is 0.1%.\n",
    "- The probability of a radiation leak occurring simultaneously with a mechanical failure is 0.15%.\n",
    "- The probability of a radiation leak occurring simultaneously with a human error is 0.12%.\n",
    "\n",
    "On the basis of the information available, answer the questions below:\n",
    "\n",
    "2.1 What are the probabilities of a fire, a mechanical failure, and a human error respectively?\n",
    "\n",
    "2.2 What is the probability of a radiation leak?\n",
    "\n",
    "2.3 Suppose there has been a radiation leak in the reactor for which the definite cause is not known. What is the probability that it has been caused by:\n",
    "\n",
    "A Fire.\n",
    "A Mechanical Failure.\n",
    "A Human Error."
   ]
  },
  {
   "cell_type": "markdown",
   "id": "4ddc0c13",
   "metadata": {},
   "source": [
    "**According to question**\n",
    "* P(R|F)=20%=0.20\n",
    "* P(R|M)=50%=0.50\n",
    "* P(R|H)=10%=0.10\n",
    "\n",
    "* P($R\\bigcap F$)=0.1%=0.001\n",
    "* P($R\\bigcap M$)=0.15%=0.0015\n",
    "* P($R\\bigcap H$)=0.12%=0.0012"
   ]
  },
  {
   "cell_type": "markdown",
   "id": "8e401874",
   "metadata": {},
   "source": [
    "### 2.1 What are the probabilities of a fire, a mechanical failure, and a human error respectively?"
   ]
  },
  {
   "cell_type": "markdown",
   "id": "34f7dee2",
   "metadata": {},
   "source": [
    "We know that :\n",
    "    P(𝑅⋂𝐹)=P(F).P(R/F)\n",
    "- The probabilities of a fire P(F)=P(𝑅⋂𝐹) / P(R/F) \n",
    "- The probabilities of a mechanical failure P(M)=P(𝑅⋂𝑀) / P(R/M)\n",
    "- The probabilities of a human error P(H)=P(𝑅⋂𝐻) / P(R/H)"
   ]
  },
  {
   "cell_type": "code",
   "execution_count": 8,
   "id": "899ea998",
   "metadata": {},
   "outputs": [
    {
     "name": "stdout",
     "output_type": "stream",
     "text": [
      "The probabilities of a fire 0.005\n"
     ]
    }
   ],
   "source": [
    "print('The probabilities of a fire',0.001/0.20)"
   ]
  },
  {
   "cell_type": "code",
   "execution_count": 9,
   "id": "0f699d13",
   "metadata": {},
   "outputs": [
    {
     "name": "stdout",
     "output_type": "stream",
     "text": [
      "The probabilities of a mechanical failure 0.003\n"
     ]
    }
   ],
   "source": [
    "print('The probabilities of a mechanical failure',0.0015/0.50)"
   ]
  },
  {
   "cell_type": "code",
   "execution_count": 10,
   "id": "451361b2",
   "metadata": {},
   "outputs": [
    {
     "name": "stdout",
     "output_type": "stream",
     "text": [
      "The probabilities of a human error 0.011999999999999999\n"
     ]
    }
   ],
   "source": [
    "print('The probabilities of a human error',0.0012/0.10)"
   ]
  },
  {
   "cell_type": "markdown",
   "id": "35d9a706",
   "metadata": {},
   "source": [
    "**Insights**\n",
    "* The probabilities of a fire, a mechanical failure, and a human error respectively `0.005, 0.003, 0.012`"
   ]
  },
  {
   "cell_type": "markdown",
   "id": "0dfe232d",
   "metadata": {},
   "source": [
    "### 2.2 What is the probability of a radiation leak?"
   ]
  },
  {
   "cell_type": "markdown",
   "id": "17f6c2f6",
   "metadata": {},
   "source": [
    "#### The probability of Radiation leak due to Fire, Mechanical Failure, Human Error\n",
    "- Total Probability =1\n",
    "- P(N)= Probability of no accident occur\n",
    "- P(N)=1-(P(F)+P(M)+P(H))\n",
    "- P(N)=0.98 So, P(R|N)=0"
   ]
  },
  {
   "cell_type": "code",
   "execution_count": 11,
   "id": "6c899cff",
   "metadata": {},
   "outputs": [
    {
     "name": "stdout",
     "output_type": "stream",
     "text": [
      "The probability of a radiation leak 0.0037\n"
     ]
    }
   ],
   "source": [
    "#P(R)=P(𝑅⋂𝐹)+P(𝑅⋂𝑀)+P(𝑅⋂𝐻)+P(R|N)\n",
    "Pob_Rad=(0.001+0.0015+0.0012+0)\n",
    "print('The probability of a radiation leak',Pob_Rad)"
   ]
  },
  {
   "cell_type": "markdown",
   "id": "dc51af11",
   "metadata": {},
   "source": [
    "### 2.3 Suppose there has been a radiation leak in the reactor for which the definite cause is not known. What is the probability that it has been caused by:\n",
    "\n",
    "- A Fire.\n",
    "- A Mechanical Failure.\n",
    "- A Human Error."
   ]
  },
  {
   "cell_type": "markdown",
   "id": "7256b545",
   "metadata": {},
   "source": [
    "* The probability of radiation leak caused by Fire\n",
    "\n",
    "P(F|R)=PP(F⋂R)/P(R)"
   ]
  },
  {
   "cell_type": "code",
   "execution_count": 12,
   "id": "62a6fc4c",
   "metadata": {},
   "outputs": [
    {
     "name": "stdout",
     "output_type": "stream",
     "text": [
      "The probability of radiation leak caused by Fire 0.2702702702702703\n"
     ]
    }
   ],
   "source": [
    "print('The probability of radiation leak caused by Fire',0.001/0.0037)"
   ]
  },
  {
   "cell_type": "markdown",
   "id": "e81d1d9a",
   "metadata": {},
   "source": [
    "* The probability of radiation leak caused by Mechanical Failure\n",
    "\n",
    "P(F|R)=PP(M⋂R)/P(R)"
   ]
  },
  {
   "cell_type": "code",
   "execution_count": 13,
   "id": "1b4068d2",
   "metadata": {},
   "outputs": [
    {
     "name": "stdout",
     "output_type": "stream",
     "text": [
      "The probability of radiation leak caused by Mechanical Failure 0.4054054054054054\n"
     ]
    }
   ],
   "source": [
    "print('The probability of radiation leak caused by Mechanical Failure',0.0015/0.0037)"
   ]
  },
  {
   "cell_type": "markdown",
   "id": "bb172231",
   "metadata": {},
   "source": [
    "* The probability of radiation leak caused by Human Error\n",
    "\n",
    "P(F|R)=PP(H⋂R)/P(R)"
   ]
  },
  {
   "cell_type": "code",
   "execution_count": 14,
   "id": "00928a7a",
   "metadata": {},
   "outputs": [
    {
     "name": "stdout",
     "output_type": "stream",
     "text": [
      "The probability of radiation leak caused by Human Error 0.3243243243243243\n"
     ]
    }
   ],
   "source": [
    "print('The probability of radiation leak caused by Human Error',0.0012/0.0037)"
   ]
  },
  {
   "cell_type": "markdown",
   "id": "e9e1e02b",
   "metadata": {},
   "source": [
    "## Problem 3:\n",
    "\n",
    "The breaking strength of gunny bags used for packaging cement is normally distributed with a mean of 5 kg per sq. centimeter and a standard deviation of 1.5 kg per sq. centimeter. The quality team of the cement company wants to know the following about the packaging material to better understand wastage or pilferage within the supply chain; Answer the questions below based on the given information; (Provide an appropriate visual representation of your answers, without which marks will be deducted)\n",
    "\n",
    "\n",
    "\n",
    "3.1 What proportion of the gunny bags have a breaking strength less than 3.17 kg per sq cm?\n",
    "\n",
    "3.2 What proportion of the gunny bags have a breaking strength at least 3.6 kg per sq cm.?\n",
    "\n",
    "3.3 What proportion of the gunny bags have a breaking strength between 5 and 5.5 kg per sq cm.?\n",
    "\n",
    "3.4 What proportion of the gunny bags have a breaking strength NOT between 3 and 7.5 kg per sq cm.?\n",
    "\n",
    "***Formula of z-score***\n",
    "\n",
    "z=(x-mean)/std"
   ]
  },
  {
   "cell_type": "markdown",
   "id": "fc4a5855",
   "metadata": {},
   "source": [
    "### 3.1 What proportion of the gunny bags have a breaking strength less than 3.17 kg per sq cm?"
   ]
  },
  {
   "cell_type": "code",
   "execution_count": 15,
   "id": "a32deb55",
   "metadata": {},
   "outputs": [
    {
     "name": "stdout",
     "output_type": "stream",
     "text": [
      "Proportion of the gunny bags have a breaking strength less than 3.17 kg per sq cm is 0.11123\n"
     ]
    }
   ],
   "source": [
    "mean=5\n",
    "std=1.5\n",
    "x=3.17\n",
    "z=(3.17-5)/1.5\n",
    "p=stats.norm.cdf(z)\n",
    "print('Proportion of the gunny bags have a breaking strength less than 3.17 kg per sq cm is %1.5f' %p)"
   ]
  },
  {
   "cell_type": "markdown",
   "id": "3a8f17ae",
   "metadata": {},
   "source": [
    "**In a normal distribution, Based on the empirical rule, sometimes known as the 68-95-99.7 rule, the number 4 is selected as an acceptable estimate. Approximately 68% of the values, 95%, and 99.7% of the values, respectively, lie within one standard deviation of the mean, two standard deviations, and three standard deviations of the mean, respectively.**"
   ]
  },
  {
   "cell_type": "code",
   "execution_count": 16,
   "id": "f972c5ee",
   "metadata": {},
   "outputs": [
    {
     "data": {
      "image/png": "[encoded data removed]",
      "text/plain": [
       "<Figure size 640x480 with 1 Axes>"
      ]
     },
     "metadata": {},
     "output_type": "display_data"
    }
   ],
   "source": [
    "x = np.linspace(mean - 4 * std, mean + 4 * std, 100)\n",
    "y = norm.pdf(x, mean, std)\n",
    "\n",
    "plt.plot(x, y)\n",
    "plt.fill_between(x, y, where=(x <= 3.17), color=\"skyblue\")\n",
    "plt.xlabel('Breaking Strength (kg per sq. cm)')\n",
    "plt.ylabel('Probability Density')\n",
    "plt.title('Normal Distribution of Breaking Strength')\n",
    "plt.show()"
   ]
  },
  {
   "cell_type": "markdown",
   "id": "025e064e",
   "metadata": {},
   "source": [
    "* The percentage of gunny bags having a breaking strength less than amount is indicated by the shaded region beneath the curve beginning at the value of 3.17 kg per sq. cm. "
   ]
  },
  {
   "cell_type": "markdown",
   "id": "282df1ea",
   "metadata": {},
   "source": [
    "### 3.2 What proportion of the gunny bags have a breaking strength at least 3.6 kg per sq cm.?"
   ]
  },
  {
   "cell_type": "code",
   "execution_count": 17,
   "id": "d6f56661",
   "metadata": {},
   "outputs": [
    {
     "name": "stdout",
     "output_type": "stream",
     "text": [
      "Proportion of the gunny bags have a breaking strength less than 3.6 kg per sq cm is 0.82468\n"
     ]
    }
   ],
   "source": [
    "mean=5\n",
    "std=1.5\n",
    "x=3.6\n",
    "z=(3.6-5)/1.5\n",
    "z\n",
    "p=1-stats.norm.cdf(z)\n",
    "print('Proportion of the gunny bags have a breaking strength less than 3.6 kg per sq cm is %1.5f' %p)"
   ]
  },
  {
   "cell_type": "code",
   "execution_count": 18,
   "id": "4c3236e2",
   "metadata": {},
   "outputs": [
    {
     "data": {
      "image/png": "[encoded data removed]",
      "text/plain": [
       "<Figure size 640x480 with 1 Axes>"
      ]
     },
     "metadata": {},
     "output_type": "display_data"
    }
   ],
   "source": [
    "x = np.linspace(mean - 4 * std, mean + 4 * std, 100)\n",
    "y = norm.pdf(x, mean, std)\n",
    "\n",
    "plt.plot(x, y)\n",
    "plt.fill_between(x, y, where=(x >= 3.6), color=\"skyblue\")\n",
    "plt.xlabel('Breaking Strength (kg per sq. cm)')\n",
    "plt.ylabel('Probability Density')\n",
    "plt.title('Normal Distribution of Breaking Strength')\n",
    "plt.show()"
   ]
  },
  {
   "cell_type": "markdown",
   "id": "f69caeb9",
   "metadata": {},
   "source": [
    "* The percentage of gunny bags having a breaking strength at least amount is indicated by the shaded region beneath the curve beginning at the value of 3.6 kg per sq. cm. "
   ]
  },
  {
   "cell_type": "markdown",
   "id": "c441b16f",
   "metadata": {},
   "source": [
    "### 3.3 What proportion of the gunny bags have a breaking strength between 5 and 5.5 kg per sq cm.?"
   ]
  },
  {
   "cell_type": "code",
   "execution_count": 19,
   "id": "8dc3f9fb",
   "metadata": {},
   "outputs": [
    {
     "name": "stdout",
     "output_type": "stream",
     "text": [
      "Proportion of the gunny bags have a breaking strength between 5 and 5.5 kg per sq cm. 0.1306\n"
     ]
    }
   ],
   "source": [
    "Prob = stats.norm.cdf(5.5,loc=5,scale=1.5) - stats.norm.cdf(5,loc=5,scale=1.5)\n",
    "print(\"Proportion of the gunny bags have a breaking strength between 5 and 5.5 kg per sq cm. %3.4f\" % Prob)"
   ]
  },
  {
   "cell_type": "code",
   "execution_count": 20,
   "id": "1c094051",
   "metadata": {},
   "outputs": [
    {
     "data": {
      "image/png": "[encoded data removed]",
      "text/plain": [
       "<Figure size 640x480 with 1 Axes>"
      ]
     },
     "metadata": {},
     "output_type": "display_data"
    }
   ],
   "source": [
    "x = np.linspace(mean - 4 * std, mean + 4 * std, 100)\n",
    "y = norm.pdf(x, mean, std)\n",
    "\n",
    "plt.plot(x, y)\n",
    "plt.fill_between(x, y, where=(x >= 5) & (x <= 5.5), color=\"skyblue\")\n",
    "plt.xlabel('Breaking Strength (kg per sq. cm)')\n",
    "plt.ylabel('Probability Density')\n",
    "plt.title('Normal Distribution of Breaking Strength')\n",
    "plt.show()"
   ]
  },
  {
   "cell_type": "markdown",
   "id": "477be344",
   "metadata": {},
   "source": [
    "* The percentage of gunny bags having a breaking strength between 5 and 5.5 kg per sq. cm is shown by the shaded region under the curve. "
   ]
  },
  {
   "cell_type": "markdown",
   "id": "7354a872",
   "metadata": {},
   "source": [
    "### 3.4 What proportion of the gunny bags have a breaking strength NOT between 3 and 7.5 kg per sq cm.?"
   ]
  },
  {
   "cell_type": "code",
   "execution_count": 21,
   "id": "02d1a0f3",
   "metadata": {},
   "outputs": [
    {
     "name": "stdout",
     "output_type": "stream",
     "text": [
      "Proportion of the gunny bags have a breaking strength between 3 and 7.5 kg per sq cm.0.1390\n"
     ]
    }
   ],
   "source": [
    "Prob = 1-(stats.norm.cdf(7.5,loc=5,scale=1.5) - stats.norm.cdf(3,loc=5,scale=1.5))\n",
    "\n",
    "print(\"Proportion of the gunny bags have a breaking strength between 3 and 7.5 kg per sq cm.%3.4f\" % Prob)"
   ]
  },
  {
   "cell_type": "code",
   "execution_count": 22,
   "id": "5d97c587",
   "metadata": {},
   "outputs": [
    {
     "data": {
      "image/png": "[encoded data removed]",
      "text/plain": [
       "<Figure size 640x480 with 1 Axes>"
      ]
     },
     "metadata": {},
     "output_type": "display_data"
    }
   ],
   "source": [
    "x = np.linspace(mean - 4 * std, mean + 4 * std, 100)\n",
    "y = norm.pdf(x, mean, std)\n",
    "\n",
    "plt.plot(x, y)\n",
    "plt.fill_between(x, y, where=(x <= 3) | (x >= 7.5), color=\"skyblue\")\n",
    "plt.xlabel('Breaking Strength (kg per sq. cm)')\n",
    "plt.ylabel('Probability Density')\n",
    "plt.title('Normal Distribution of Breaking Strength')\n",
    "plt.show()"
   ]
  },
  {
   "cell_type": "markdown",
   "id": "5954c95a",
   "metadata": {},
   "source": [
    "* The percentage of gunny bags having a breaking strength outside of that range is represented by the shaded region beneath the curve outside of the range between 3 and 7.5 kg per sq. cm. "
   ]
  },
  {
   "cell_type": "markdown",
   "id": "cd920c4c",
   "metadata": {},
   "source": [
    "## Problem 4:\n",
    "\n",
    " \n",
    "\n",
    "Grades of the final examination in a training course are found to be normally distributed, with a mean of 77 and a standard deviation of 8.5. Based on the given information answer the questions below.\n",
    "\n",
    " \n",
    "\n",
    "4.1 What is the probability that a randomly chosen student gets a grade below 85 on this exam?\n",
    "\n",
    "4.2 What is the probability that a randomly selected student scores between 65 and 87?\n",
    "\n",
    "4.3 What should be the passing cut-off so that 75% of the students clear the exam?"
   ]
  },
  {
   "cell_type": "markdown",
   "id": "60777b0d",
   "metadata": {},
   "source": [
    "***Formula of z-score***\n",
    "\n",
    "z=(x-mean)/std"
   ]
  },
  {
   "cell_type": "markdown",
   "id": "e1699858",
   "metadata": {},
   "source": [
    "### 4.1 What is the probability that a randomly chosen student gets a grade below 85 on this exam?"
   ]
  },
  {
   "cell_type": "code",
   "execution_count": 23,
   "id": "b804aa17",
   "metadata": {},
   "outputs": [
    {
     "name": "stdout",
     "output_type": "stream",
     "text": [
      "The probability that a randomly chosen student gets a grade below 85 on this exam 0.8266927837484748\n"
     ]
    }
   ],
   "source": [
    "mu=77\n",
    "sigma=8.5\n",
    "x=85\n",
    "Prob = stats.norm.cdf(x,loc=mu,scale=sigma)\n",
    "print('The probability that a randomly chosen student gets a grade below 85 on this exam',Prob)"
   ]
  },
  {
   "cell_type": "markdown",
   "id": "02a9696e",
   "metadata": {},
   "source": [
    "* The probability that a randomly chosen student gets a grade below 85 on this exam is 82.66%."
   ]
  },
  {
   "cell_type": "markdown",
   "id": "1902b3e7",
   "metadata": {},
   "source": [
    "### 4.2 What is the probability that a randomly selected student scores between 65 and 87?"
   ]
  },
  {
   "cell_type": "code",
   "execution_count": 24,
   "id": "ed901dbd",
   "metadata": {},
   "outputs": [
    {
     "name": "stdout",
     "output_type": "stream",
     "text": [
      "Probability that a randomly selected student scores between 65 and 87 0.8012869336779058\n"
     ]
    }
   ],
   "source": [
    "mu=77\n",
    "sigma=8.5\n",
    "x1=65\n",
    "x2=87\n",
    "Prob = stats.norm.cdf(x2,loc=mu,scale=sigma) - stats.norm.cdf(x1,loc=mu,scale=sigma)\n",
    "print(\"Probability that a randomly selected student scores between 65 and 87\",Prob)"
   ]
  },
  {
   "cell_type": "markdown",
   "id": "36bc9fae",
   "metadata": {},
   "source": [
    "* The probability that a randomly selected student scores between 65 and 87 is 80.13%"
   ]
  },
  {
   "cell_type": "markdown",
   "id": "3fe6a884",
   "metadata": {},
   "source": [
    "### 4.3 What should be the passing cut-off so that 75% of the students clear the exam?"
   ]
  },
  {
   "cell_type": "code",
   "execution_count": 25,
   "id": "9a22ff8a",
   "metadata": {},
   "outputs": [
    {
     "name": "stdout",
     "output_type": "stream",
     "text": [
      "The passing cut-off so that 75% of the students clear the exam 82.7331628766667\n"
     ]
    }
   ],
   "source": [
    "mu=77\n",
    "sigma=8.5\n",
    "x=0.75 #75%=0.75\n",
    "Prob = stats.norm.ppf(x,loc=mu,scale=sigma)\n",
    "print(\"The passing cut-off so that 75% of the students clear the exam\",Prob)"
   ]
  },
  {
   "cell_type": "markdown",
   "id": "fbfaa3ee",
   "metadata": {},
   "source": [
    "* The passing cut-off so that 75% of the students clear the exam should be 82.73%."
   ]
  },
  {
   "cell_type": "markdown",
   "id": "bda13e97",
   "metadata": {},
   "source": [
    "## Problem 5:\n",
    "\n",
    " \n",
    "\n",
    "Zingaro stone printing is a company that specializes in printing images or patterns on polished or unpolished stones. However, for the optimum level of printing of the image the stone surface has to have a Brinell's hardness index of at least 150. Recently, Zingaro has received a batch of polished and unpolished stones from its clients. Use the data provided to answer the following (assuming a 5% significance level);\n",
    "\n",
    " \n",
    "\n",
    "5.1 Earlier experience of Zingaro with this particular client is favorable as the stone surface was found to be of adequate hardness. However, Zingaro has reason to believe now that the unpolished stones may not be suitable for printing. Do you think Zingaro is justified in thinking so?\n",
    "\n",
    "5.2 Is the mean hardness of the polished and unpolished stones the same?"
   ]
  },
  {
   "cell_type": "markdown",
   "id": "f36a6d0e",
   "metadata": {},
   "source": [
    "### Read the DataSet"
   ]
  },
  {
   "cell_type": "code",
   "execution_count": 26,
   "id": "59a5e89b",
   "metadata": {},
   "outputs": [
    {
     "data": {
      "text/html": [
       "<div>\n",
       "<style scoped>\n",
       "    .dataframe tbody tr th:only-of-type {\n",
       "        vertical-align: middle;\n",
       "    }\n",
       "\n",
       "    .dataframe tbody tr th {\n",
       "        vertical-align: top;\n",
       "    }\n",
       "\n",
       "    .dataframe thead th {\n",
       "        text-align: right;\n",
       "    }\n",
       "</style>\n",
       "<table border=\"1\" class=\"dataframe\">\n",
       "  <thead>\n",
       "    <tr style=\"text-align: right;\">\n",
       "      <th></th>\n",
       "      <th>Unpolished</th>\n",
       "      <th>Treated and Polished</th>\n",
       "    </tr>\n",
       "  </thead>\n",
       "  <tbody>\n",
       "    <tr>\n",
       "      <th>0</th>\n",
       "      <td>164.481713</td>\n",
       "      <td>133.209393</td>\n",
       "    </tr>\n",
       "    <tr>\n",
       "      <th>1</th>\n",
       "      <td>154.307045</td>\n",
       "      <td>138.482771</td>\n",
       "    </tr>\n",
       "    <tr>\n",
       "      <th>2</th>\n",
       "      <td>129.861048</td>\n",
       "      <td>159.665201</td>\n",
       "    </tr>\n",
       "    <tr>\n",
       "      <th>3</th>\n",
       "      <td>159.096184</td>\n",
       "      <td>145.663528</td>\n",
       "    </tr>\n",
       "    <tr>\n",
       "      <th>4</th>\n",
       "      <td>135.256748</td>\n",
       "      <td>136.789227</td>\n",
       "    </tr>\n",
       "  </tbody>\n",
       "</table>\n",
       "</div>"
      ],
      "text/plain": [
       "   Unpolished   Treated and Polished\n",
       "0   164.481713            133.209393\n",
       "1   154.307045            138.482771\n",
       "2   129.861048            159.665201\n",
       "3   159.096184            145.663528\n",
       "4   135.256748            136.789227"
      ]
     },
     "execution_count": 26,
     "metadata": {},
     "output_type": "execute_result"
    }
   ],
   "source": [
    "zig=pd.read_csv('Zingaro_Company.csv')\n",
    "zig.head()"
   ]
  },
  {
   "cell_type": "code",
   "execution_count": 27,
   "id": "ad37aa54",
   "metadata": {},
   "outputs": [
    {
     "name": "stdout",
     "output_type": "stream",
     "text": [
      "<class 'pandas.core.frame.DataFrame'>\n",
      "RangeIndex: 75 entries, 0 to 74\n",
      "Data columns (total 2 columns):\n",
      " #   Column                Non-Null Count  Dtype  \n",
      "---  ------                --------------  -----  \n",
      " 0   Unpolished            75 non-null     float64\n",
      " 1   Treated and Polished  75 non-null     float64\n",
      "dtypes: float64(2)\n",
      "memory usage: 1.3 KB\n"
     ]
    }
   ],
   "source": [
    "zig.info()"
   ]
  },
  {
   "cell_type": "code",
   "execution_count": 28,
   "id": "320d316c",
   "metadata": {},
   "outputs": [
    {
     "data": {
      "text/html": [
       "<div>\n",
       "<style scoped>\n",
       "    .dataframe tbody tr th:only-of-type {\n",
       "        vertical-align: middle;\n",
       "    }\n",
       "\n",
       "    .dataframe tbody tr th {\n",
       "        vertical-align: top;\n",
       "    }\n",
       "\n",
       "    .dataframe thead th {\n",
       "        text-align: right;\n",
       "    }\n",
       "</style>\n",
       "<table border=\"1\" class=\"dataframe\">\n",
       "  <thead>\n",
       "    <tr style=\"text-align: right;\">\n",
       "      <th></th>\n",
       "      <th>Unpolished</th>\n",
       "      <th>Treated and Polished</th>\n",
       "    </tr>\n",
       "  </thead>\n",
       "  <tbody>\n",
       "    <tr>\n",
       "      <th>count</th>\n",
       "      <td>75.000000</td>\n",
       "      <td>75.000000</td>\n",
       "    </tr>\n",
       "    <tr>\n",
       "      <th>mean</th>\n",
       "      <td>134.110527</td>\n",
       "      <td>147.788117</td>\n",
       "    </tr>\n",
       "    <tr>\n",
       "      <th>std</th>\n",
       "      <td>33.041804</td>\n",
       "      <td>15.587355</td>\n",
       "    </tr>\n",
       "    <tr>\n",
       "      <th>min</th>\n",
       "      <td>48.406838</td>\n",
       "      <td>107.524167</td>\n",
       "    </tr>\n",
       "    <tr>\n",
       "      <th>25%</th>\n",
       "      <td>115.329753</td>\n",
       "      <td>138.268300</td>\n",
       "    </tr>\n",
       "    <tr>\n",
       "      <th>50%</th>\n",
       "      <td>135.597121</td>\n",
       "      <td>145.721322</td>\n",
       "    </tr>\n",
       "    <tr>\n",
       "      <th>75%</th>\n",
       "      <td>158.215098</td>\n",
       "      <td>157.373318</td>\n",
       "    </tr>\n",
       "    <tr>\n",
       "      <th>max</th>\n",
       "      <td>200.161313</td>\n",
       "      <td>192.272856</td>\n",
       "    </tr>\n",
       "  </tbody>\n",
       "</table>\n",
       "</div>"
      ],
      "text/plain": [
       "       Unpolished   Treated and Polished\n",
       "count    75.000000             75.000000\n",
       "mean    134.110527            147.788117\n",
       "std      33.041804             15.587355\n",
       "min      48.406838            107.524167\n",
       "25%     115.329753            138.268300\n",
       "50%     135.597121            145.721322\n",
       "75%     158.215098            157.373318\n",
       "max     200.161313            192.272856"
      ]
     },
     "execution_count": 28,
     "metadata": {},
     "output_type": "execute_result"
    }
   ],
   "source": [
    "zig.describe()"
   ]
  },
  {
   "cell_type": "markdown",
   "id": "eb349f03",
   "metadata": {},
   "source": [
    "### 5.1 Earlier experience of Zingaro with this particular client is favorable as the stone surface was found to be of adequate hardness. However, Zingaro has reason to believe now that the unpolished stones may not be suitable for printing. Do you think Zingaro is justified in thinking so?"
   ]
  },
  {
   "cell_type": "markdown",
   "id": "1fd09fd7",
   "metadata": {},
   "source": [
    "### Step 1: Define the Null Hypothesis($H_0$) and Alternative hypothesis($H_A$)"
   ]
  },
  {
   "cell_type": "markdown",
   "id": "9e8c014a",
   "metadata": {},
   "source": [
    "#### Null hypothesis states that,The mean hardness of unpolished stone, $\\mu$ is at least 150.\n",
    "#### Alternative hypothesis states that, The mean hardness of unpolished stone, $\\mu$ is less than 150.\n",
    "\n",
    "* $H_0$: $\\mu$ >= 150\n",
    "* $H_A$: $\\mu$ < 150"
   ]
  },
  {
   "cell_type": "markdown",
   "id": "bd6dd35b",
   "metadata": {},
   "source": [
    "### Step 2: Decide the Significance Level \n",
    "* Significance Level is given in the question\n",
    "* Here we select $\\alpha$ = 0.05."
   ]
  },
  {
   "cell_type": "markdown",
   "id": "9afee39f",
   "metadata": {},
   "source": [
    "### Step 3: Identify the Test Statistics\n",
    "Here n = 75"
   ]
  },
  {
   "cell_type": "markdown",
   "id": "3910263d",
   "metadata": {},
   "source": [
    "### Step 4: Calculate the p - value and test statistic\n",
    "**scipy.stats.ttest_1samp calculates the t test for the mean of one sample given the sample observations and  the expected value in the null hypothesis. This function returns t statistic and the two-tailed p value.**"
   ]
  },
  {
   "cell_type": "code",
   "execution_count": 29,
   "id": "2bc57ef4",
   "metadata": {},
   "outputs": [
    {
     "name": "stdout",
     "output_type": "stream",
     "text": [
      "Sample Mean of Zig dataest is: Unpolished              134.110527\n",
      "Treated and Polished    147.788117\n",
      "dtype: float64\n",
      "Standard Deviation of Zig dataest is: Unpolished              33.041804\n",
      "Treated and Polished    15.587355\n",
      "dtype: float64\n"
     ]
    }
   ],
   "source": [
    "# Calculate sample statistics\n",
    "sample_mean = np.mean(zig)\n",
    "sample_std = np.std(zig, ddof=1)\n",
    "print('Sample Mean of Zig dataest is:',sample_mean)\n",
    "print('Standard Deviation of Zig dataest is:',sample_std)"
   ]
  },
  {
   "cell_type": "code",
   "execution_count": 30,
   "id": "c7f39ac3",
   "metadata": {},
   "outputs": [
    {
     "data": {
      "text/plain": [
       "(Unpolished             -4.164630\n",
       " Treated and Polished   -1.228911\n",
       " dtype: float64,\n",
       " array([4.17128700e-05, 1.11499484e-01]))"
      ]
     },
     "execution_count": 30,
     "metadata": {},
     "output_type": "execute_result"
    }
   ],
   "source": [
    "## Calculate the test statistic\n",
    "test_statistic = (sample_mean - 150) / (sample_std / np.sqrt(75))\n",
    "\n",
    "# Calculate the degrees of freedom\n",
    "degrees_of_freedom = 75 - 1\n",
    "\n",
    "# Calculate the p-value\n",
    "p_value = t.cdf(test_statistic, df=degrees_of_freedom)\n",
    "\n",
    "test_statistic, p_value"
   ]
  },
  {
   "cell_type": "markdown",
   "id": "3651e837",
   "metadata": {},
   "source": [
    "### Step 5: Decide to Reject or Fail to reject Null Hypothesis"
   ]
  },
  {
   "cell_type": "code",
   "execution_count": 31,
   "id": "4c626187",
   "metadata": {},
   "outputs": [
    {
     "name": "stdout",
     "output_type": "stream",
     "text": [
      "Level of significance: 0.05\n",
      "We have evidence to reject the null hypothesis since p_value < Level of significance\n",
      "Our one-sample t-test p-value= 0.0014655150194628353\n"
     ]
    }
   ],
   "source": [
    "# Perform a t-test\n",
    "t_statistic, p_value = stats.ttest_ind(zig['Unpolished '], zig['Treated and Polished'])\n",
    "\n",
    "alpha_value = 0.05  # Level of significance\n",
    "print('Level of significance: %.2f' % alpha_value)\n",
    "\n",
    "if p_value < alpha_value:\n",
    "    print('We have evidence to reject the null hypothesis since p_value < Level of significance')\n",
    "else:\n",
    "    print('We do not have enough evidence to reject the null hypothesis')\n",
    "\n",
    "print (\"Our one-sample t-test p-value=\", p_value)"
   ]
  },
  {
   "cell_type": "markdown",
   "id": "9e1aa046",
   "metadata": {},
   "source": [
    "### 5.2 Is the mean hardness of the polished and unpolished stones the same?"
   ]
  },
  {
   "cell_type": "code",
   "execution_count": 32,
   "id": "8733bce8",
   "metadata": {},
   "outputs": [
    {
     "name": "stdout",
     "output_type": "stream",
     "text": [
      "Sample Mean of Unpolished is: 134.11052653373332\n",
      "Sample Mean of Treated and Polished is: 147.78811718133335\n",
      "The mean hardness of the polished and unpolished stones are not the same\n"
     ]
    }
   ],
   "source": [
    "# Calculate sample statistics\n",
    "sample_mean_unp = np.mean(zig['Unpolished '])\n",
    "sample_mean_trp = np.mean(zig['Treated and Polished'])\n",
    "\n",
    "print('Sample Mean of Unpolished is:',sample_mean_unp)\n",
    "print('Sample Mean of Treated and Polished is:',sample_mean_trp)\n",
    "\n",
    "if sample_mean_unp == sample_mean_trp:\n",
    "    print('The mean hardness of the polished and unpolished stones are the same')\n",
    "else:\n",
    "    print('The mean hardness of the polished and unpolished stones are not the same')"
   ]
  },
  {
   "cell_type": "markdown",
   "id": "8df479de",
   "metadata": {},
   "source": [
    "## Problem 6:\n",
    "\n",
    " \n",
    "\n",
    "Aquarius health club, one of the largest and most popular cross-fit gyms in the country has been advertising a rigorous program for body conditioning. The program is considered successful if the candidate is able to do more than 5 push-ups, as compared to when he/she enrolled in the program. Using the sample data provided can you conclude whether the program is successful? (Consider the level of Significance as 5%)\n",
    "\n",
    "Note that this is a problem of the paired-t-test. Since the claim is that the training will make a difference of more than 5, the null and alternative hypotheses must be formed accordingly."
   ]
  },
  {
   "cell_type": "markdown",
   "id": "b5dcb32d",
   "metadata": {},
   "source": [
    "### Read the DataSet"
   ]
  },
  {
   "cell_type": "code",
   "execution_count": 33,
   "id": "ff922482",
   "metadata": {},
   "outputs": [
    {
     "data": {
      "text/html": [
       "<div>\n",
       "<style scoped>\n",
       "    .dataframe tbody tr th:only-of-type {\n",
       "        vertical-align: middle;\n",
       "    }\n",
       "\n",
       "    .dataframe tbody tr th {\n",
       "        vertical-align: top;\n",
       "    }\n",
       "\n",
       "    .dataframe thead th {\n",
       "        text-align: right;\n",
       "    }\n",
       "</style>\n",
       "<table border=\"1\" class=\"dataframe\">\n",
       "  <thead>\n",
       "    <tr style=\"text-align: right;\">\n",
       "      <th></th>\n",
       "      <th>Sr no.</th>\n",
       "      <th>Before</th>\n",
       "      <th>After</th>\n",
       "    </tr>\n",
       "  </thead>\n",
       "  <tbody>\n",
       "    <tr>\n",
       "      <th>0</th>\n",
       "      <td>1</td>\n",
       "      <td>39</td>\n",
       "      <td>44</td>\n",
       "    </tr>\n",
       "    <tr>\n",
       "      <th>1</th>\n",
       "      <td>2</td>\n",
       "      <td>25</td>\n",
       "      <td>25</td>\n",
       "    </tr>\n",
       "    <tr>\n",
       "      <th>2</th>\n",
       "      <td>3</td>\n",
       "      <td>39</td>\n",
       "      <td>39</td>\n",
       "    </tr>\n",
       "    <tr>\n",
       "      <th>3</th>\n",
       "      <td>4</td>\n",
       "      <td>6</td>\n",
       "      <td>13</td>\n",
       "    </tr>\n",
       "    <tr>\n",
       "      <th>4</th>\n",
       "      <td>5</td>\n",
       "      <td>40</td>\n",
       "      <td>44</td>\n",
       "    </tr>\n",
       "  </tbody>\n",
       "</table>\n",
       "</div>"
      ],
      "text/plain": [
       "   Sr no.  Before  After\n",
       "0       1      39     44\n",
       "1       2      25     25\n",
       "2       3      39     39\n",
       "3       4       6     13\n",
       "4       5      40     44"
      ]
     },
     "execution_count": 33,
     "metadata": {},
     "output_type": "execute_result"
    }
   ],
   "source": [
    "Aquarius=pd.read_csv('Aquarius_gym.csv')\n",
    "Aquarius.head()"
   ]
  },
  {
   "cell_type": "code",
   "execution_count": 34,
   "id": "6910baa1",
   "metadata": {},
   "outputs": [
    {
     "name": "stdout",
     "output_type": "stream",
     "text": [
      "<class 'pandas.core.frame.DataFrame'>\n",
      "RangeIndex: 100 entries, 0 to 99\n",
      "Data columns (total 3 columns):\n",
      " #   Column  Non-Null Count  Dtype\n",
      "---  ------  --------------  -----\n",
      " 0   Sr no.  100 non-null    int64\n",
      " 1   Before  100 non-null    int64\n",
      " 2   After   100 non-null    int64\n",
      "dtypes: int64(3)\n",
      "memory usage: 2.5 KB\n"
     ]
    }
   ],
   "source": [
    "Aquarius.info()"
   ]
  },
  {
   "cell_type": "markdown",
   "id": "654524aa",
   "metadata": {},
   "source": [
    "### Step 1: Define null and alternative hypotheses"
   ]
  },
  {
   "cell_type": "markdown",
   "id": "486939e6",
   "metadata": {},
   "source": [
    "In testing Since the claim is that the training will make a difference of more than 5,\n",
    "* The null hypothesis states that, The average difference in push-up counts before and after the program is less than or equal to 5.  $\\mu_{0}$ $\\leq$ $5$. \n",
    "* The alternative hypthesis states that, The average difference in push-up counts before and after the program is greater than 5. $\\mu_{a}$ $>$ $5$\n",
    "\n",
    "* $H_0$: $\\mu_{0}$ $\\leq$ $5$\n",
    "* $H_A$: $\\mu_{a}$ $>$ $5$"
   ]
  },
  {
   "cell_type": "markdown",
   "id": "88a7ada8",
   "metadata": {},
   "source": [
    "### Step 2: Decide the significance level"
   ]
  },
  {
   "cell_type": "markdown",
   "id": "7ee2e773",
   "metadata": {},
   "source": [
    "Here we select  $\\alpha$\n",
    "  = 0.05 as given in the question."
   ]
  },
  {
   "cell_type": "markdown",
   "id": "a9b9ee80",
   "metadata": {},
   "source": [
    "### Step 3: Calculate the p - value and test statistic"
   ]
  },
  {
   "cell_type": "markdown",
   "id": "5f35f51b",
   "metadata": {},
   "source": [
    "* We use the scipy.stats.ttest_rel to calculate the T-test on TWO RELATED samples of data. This is a two-sided test for the null hypothesis that 2 related or repeated samples have identical average (expected) values. Here we give the two sample observations as input. This function returns t statistic and two-tailed p value."
   ]
  },
  {
   "cell_type": "code",
   "execution_count": 35,
   "id": "93771e2d",
   "metadata": {},
   "outputs": [
    {
     "name": "stdout",
     "output_type": "stream",
     "text": [
      "Sample Mean: 5.55\n",
      "t-statistic: 1.9148542155126753\n",
      "p-value: 0.058397744282022435\n",
      "Critical value: 1.6603911559963895\n"
     ]
    }
   ],
   "source": [
    "# paired t-test: doing two measurments on the same experimental unit\n",
    "# Calculate the differences\n",
    "differences = Aquarius['After'] - Aquarius['Before']\n",
    "\n",
    "# Perform paired t-test\n",
    "t_statistic, p_value = stats.ttest_1samp(differences, 5)\n",
    "\n",
    "# Calculate degrees of freedom\n",
    "df = len(differences) - 1\n",
    "\n",
    "# Calculate critical value at a 5% significance level\n",
    "critical_value = stats.t.ppf(1 - 0.05, df)\n",
    "\n",
    "# Print the results\n",
    "print(\"Sample Mean:\", np.mean(differences))\n",
    "print(\"t-statistic:\", t_statistic)\n",
    "print(\"p-value:\", p_value)\n",
    "print(\"Critical value:\", critical_value)"
   ]
  },
  {
   "cell_type": "markdown",
   "id": "ed2364e3",
   "metadata": {},
   "source": [
    "### Step 4: Decide to reject or accept null hypothesis"
   ]
  },
  {
   "cell_type": "code",
   "execution_count": 36,
   "id": "77b18a7e",
   "metadata": {},
   "outputs": [
    {
     "name": "stdout",
     "output_type": "stream",
     "text": [
      "Conclusion: The null hypothesis cannot be rejected.\n",
      "There is not enough evidence to conclude that the program is successful in terms of body conditioning.\n"
     ]
    }
   ],
   "source": [
    "if t_statistic > critical_value and p_value < 0.05:\n",
    "    print(\"Conclusion: There is evidence to reject the null hypothesis.\")\n",
    "    print(\"The program is successful in terms of body conditioning.\")\n",
    "else:\n",
    "    print(\"Conclusion: The null hypothesis cannot be rejected.\")\n",
    "    print(\"There is not enough evidence to conclude that the program is successful in terms of body conditioning.\")"
   ]
  },
  {
   "cell_type": "markdown",
   "id": "1022b8a1",
   "metadata": {},
   "source": [
    "## Problem 7:\n",
    "\n",
    " \n",
    "\n",
    "Dental implant data: The hardness of metal implant in dental cavities depends on multiple factors, such as the method of implant, the temperature at which the metal is treated, the alloy used as well as on the dentists who may favour one method above another and may work better in his/her favourite method. The response is the variable of interest.\n",
    "\n",
    "1. Test whether there is any difference among the dentists on the implant hardness. State the null and alternative hypotheses. Note that both types of alloys cannot be considered together. You must state the null and alternative hypotheses separately for the two types of alloys.?\n",
    "2. Before the hypotheses may be tested, state the required assumptions. Are the assumptions fulfilled? Comment separately on both alloy types.? \n",
    "3. Irrespective of your conclusion in 2, we will continue with the testing procedure. What do you conclude regarding whether implant hardness depends on dentists? Clearly state your conclusion. If the null hypothesis is rejected, is it possible to identify which pairs of dentists differ?\n",
    "4. Now test whether there is any difference among the methods on the hardness of dental implant, separately for the two types of alloys. What are your conclusions? If the null hypothesis is rejected, is it possible to identify which pairs of methods differ?\n",
    "5. Now test whether there is any difference among the temperature levels on the hardness of dental implant, separately for the two types of alloys. What are your conclusions? If the null hypothesis is rejected, is it possible to identify which levels of temperatures differ?\n",
    "6. Consider the interaction effect of dentist and method and comment on the interaction plot, separately for the two types of alloys?\n",
    "7. Now consider the effect of both factors, dentist, and method, separately on each alloy. What do you conclude? Is it possible to identify which dentists are different, which methods are different, and which interaction levels are different?"
   ]
  },
  {
   "cell_type": "markdown",
   "id": "69de68e3",
   "metadata": {},
   "source": [
    "### Read the DataSet"
   ]
  },
  {
   "cell_type": "code",
   "execution_count": 37,
   "id": "138b02c7",
   "metadata": {},
   "outputs": [],
   "source": [
    "Dental = pd.read_excel('Dental Hardness data (1).xlsx')"
   ]
  },
  {
   "cell_type": "code",
   "execution_count": 38,
   "id": "70d49217",
   "metadata": {},
   "outputs": [
    {
     "data": {
      "text/html": [
       "<div>\n",
       "<style scoped>\n",
       "    .dataframe tbody tr th:only-of-type {\n",
       "        vertical-align: middle;\n",
       "    }\n",
       "\n",
       "    .dataframe tbody tr th {\n",
       "        vertical-align: top;\n",
       "    }\n",
       "\n",
       "    .dataframe thead th {\n",
       "        text-align: right;\n",
       "    }\n",
       "</style>\n",
       "<table border=\"1\" class=\"dataframe\">\n",
       "  <thead>\n",
       "    <tr style=\"text-align: right;\">\n",
       "      <th></th>\n",
       "      <th>Dentist</th>\n",
       "      <th>Method</th>\n",
       "      <th>Alloy</th>\n",
       "      <th>Temp</th>\n",
       "      <th>Response</th>\n",
       "    </tr>\n",
       "  </thead>\n",
       "  <tbody>\n",
       "    <tr>\n",
       "      <th>0</th>\n",
       "      <td>1</td>\n",
       "      <td>1</td>\n",
       "      <td>1</td>\n",
       "      <td>1500</td>\n",
       "      <td>813</td>\n",
       "    </tr>\n",
       "    <tr>\n",
       "      <th>1</th>\n",
       "      <td>1</td>\n",
       "      <td>1</td>\n",
       "      <td>1</td>\n",
       "      <td>1600</td>\n",
       "      <td>792</td>\n",
       "    </tr>\n",
       "    <tr>\n",
       "      <th>2</th>\n",
       "      <td>1</td>\n",
       "      <td>1</td>\n",
       "      <td>1</td>\n",
       "      <td>1700</td>\n",
       "      <td>792</td>\n",
       "    </tr>\n",
       "    <tr>\n",
       "      <th>3</th>\n",
       "      <td>1</td>\n",
       "      <td>1</td>\n",
       "      <td>2</td>\n",
       "      <td>1500</td>\n",
       "      <td>907</td>\n",
       "    </tr>\n",
       "    <tr>\n",
       "      <th>4</th>\n",
       "      <td>1</td>\n",
       "      <td>1</td>\n",
       "      <td>2</td>\n",
       "      <td>1600</td>\n",
       "      <td>792</td>\n",
       "    </tr>\n",
       "  </tbody>\n",
       "</table>\n",
       "</div>"
      ],
      "text/plain": [
       "   Dentist  Method  Alloy  Temp  Response\n",
       "0        1       1      1  1500       813\n",
       "1        1       1      1  1600       792\n",
       "2        1       1      1  1700       792\n",
       "3        1       1      2  1500       907\n",
       "4        1       1      2  1600       792"
      ]
     },
     "execution_count": 38,
     "metadata": {},
     "output_type": "execute_result"
    }
   ],
   "source": [
    "Dental.head()"
   ]
  },
  {
   "cell_type": "code",
   "execution_count": 39,
   "id": "37210faa",
   "metadata": {},
   "outputs": [
    {
     "name": "stdout",
     "output_type": "stream",
     "text": [
      "<class 'pandas.core.frame.DataFrame'>\n",
      "RangeIndex: 90 entries, 0 to 89\n",
      "Data columns (total 5 columns):\n",
      " #   Column    Non-Null Count  Dtype\n",
      "---  ------    --------------  -----\n",
      " 0   Dentist   90 non-null     int64\n",
      " 1   Method    90 non-null     int64\n",
      " 2   Alloy     90 non-null     int64\n",
      " 3   Temp      90 non-null     int64\n",
      " 4   Response  90 non-null     int64\n",
      "dtypes: int64(5)\n",
      "memory usage: 3.6 KB\n"
     ]
    }
   ],
   "source": [
    "Dental.info()"
   ]
  },
  {
   "cell_type": "code",
   "execution_count": 40,
   "id": "a0ca34b1",
   "metadata": {
    "scrolled": true
   },
   "outputs": [
    {
     "data": {
      "text/html": [
       "<div>\n",
       "<style scoped>\n",
       "    .dataframe tbody tr th:only-of-type {\n",
       "        vertical-align: middle;\n",
       "    }\n",
       "\n",
       "    .dataframe tbody tr th {\n",
       "        vertical-align: top;\n",
       "    }\n",
       "\n",
       "    .dataframe thead th {\n",
       "        text-align: right;\n",
       "    }\n",
       "</style>\n",
       "<table border=\"1\" class=\"dataframe\">\n",
       "  <thead>\n",
       "    <tr style=\"text-align: right;\">\n",
       "      <th></th>\n",
       "      <th>Dentist</th>\n",
       "      <th>Method</th>\n",
       "      <th>Alloy</th>\n",
       "      <th>Temp</th>\n",
       "      <th>Response</th>\n",
       "    </tr>\n",
       "  </thead>\n",
       "  <tbody>\n",
       "    <tr>\n",
       "      <th>count</th>\n",
       "      <td>90.000000</td>\n",
       "      <td>90.000000</td>\n",
       "      <td>90.000000</td>\n",
       "      <td>90.000000</td>\n",
       "      <td>90.000000</td>\n",
       "    </tr>\n",
       "    <tr>\n",
       "      <th>mean</th>\n",
       "      <td>3.000000</td>\n",
       "      <td>2.000000</td>\n",
       "      <td>1.500000</td>\n",
       "      <td>1600.000000</td>\n",
       "      <td>741.777778</td>\n",
       "    </tr>\n",
       "    <tr>\n",
       "      <th>std</th>\n",
       "      <td>1.422136</td>\n",
       "      <td>0.821071</td>\n",
       "      <td>0.502801</td>\n",
       "      <td>82.107083</td>\n",
       "      <td>145.767845</td>\n",
       "    </tr>\n",
       "    <tr>\n",
       "      <th>min</th>\n",
       "      <td>1.000000</td>\n",
       "      <td>1.000000</td>\n",
       "      <td>1.000000</td>\n",
       "      <td>1500.000000</td>\n",
       "      <td>289.000000</td>\n",
       "    </tr>\n",
       "    <tr>\n",
       "      <th>25%</th>\n",
       "      <td>2.000000</td>\n",
       "      <td>1.000000</td>\n",
       "      <td>1.000000</td>\n",
       "      <td>1500.000000</td>\n",
       "      <td>698.000000</td>\n",
       "    </tr>\n",
       "    <tr>\n",
       "      <th>50%</th>\n",
       "      <td>3.000000</td>\n",
       "      <td>2.000000</td>\n",
       "      <td>1.500000</td>\n",
       "      <td>1600.000000</td>\n",
       "      <td>767.000000</td>\n",
       "    </tr>\n",
       "    <tr>\n",
       "      <th>75%</th>\n",
       "      <td>4.000000</td>\n",
       "      <td>3.000000</td>\n",
       "      <td>2.000000</td>\n",
       "      <td>1700.000000</td>\n",
       "      <td>824.000000</td>\n",
       "    </tr>\n",
       "    <tr>\n",
       "      <th>max</th>\n",
       "      <td>5.000000</td>\n",
       "      <td>3.000000</td>\n",
       "      <td>2.000000</td>\n",
       "      <td>1700.000000</td>\n",
       "      <td>1115.000000</td>\n",
       "    </tr>\n",
       "  </tbody>\n",
       "</table>\n",
       "</div>"
      ],
      "text/plain": [
       "         Dentist     Method      Alloy         Temp     Response\n",
       "count  90.000000  90.000000  90.000000    90.000000    90.000000\n",
       "mean    3.000000   2.000000   1.500000  1600.000000   741.777778\n",
       "std     1.422136   0.821071   0.502801    82.107083   145.767845\n",
       "min     1.000000   1.000000   1.000000  1500.000000   289.000000\n",
       "25%     2.000000   1.000000   1.000000  1500.000000   698.000000\n",
       "50%     3.000000   2.000000   1.500000  1600.000000   767.000000\n",
       "75%     4.000000   3.000000   2.000000  1700.000000   824.000000\n",
       "max     5.000000   3.000000   2.000000  1700.000000  1115.000000"
      ]
     },
     "execution_count": 40,
     "metadata": {},
     "output_type": "execute_result"
    }
   ],
   "source": [
    "Dental.describe()"
   ]
  },
  {
   "cell_type": "markdown",
   "id": "a27dccc1",
   "metadata": {},
   "source": [
    "### 1. Test whether there is any difference among the dentists on the implant hardness. State the null and alternative hypotheses. Note that both types of alloys cannot be considered together. You must state the null and alternative hypotheses separately for the two types of alloys.?"
   ]
  },
  {
   "cell_type": "markdown",
   "id": "20d52cd7",
   "metadata": {},
   "source": [
    "### 2. Before the hypotheses may be tested, state the required assumptions. Are the assumptions fulfilled? Comment separately on both alloy types.?"
   ]
  },
  {
   "cell_type": "markdown",
   "id": "7bdfdf02",
   "metadata": {},
   "source": [
    "### Shapiro_Walk Test or Anderson Darling Test\n",
    "The Shapiro_Walk test, Tests the Null Hypothesis that the data was drawn from a Normal Distribution.\n",
    "\n",
    "Use level of significance $\\alpha$ = 0.05"
   ]
  },
  {
   "cell_type": "code",
   "execution_count": 41,
   "id": "2efd398b",
   "metadata": {},
   "outputs": [
    {
     "name": "stdout",
     "output_type": "stream",
     "text": [
      "Alloy 1 - Normality Test\n",
      "Shapiro-Wilk test (p-value): 1.1945070582441986e-05\n",
      "Anderson-Darling test (statistic, critical values): 2.561066309273201 [0.535 0.609 0.731 0.853 1.014]\n",
      "\n",
      "Alloy 2 - Normality Test\n",
      "Shapiro-Wilk test (p-value): 0.00040293222991749644\n",
      "Anderson-Darling test (statistic, critical values): 1.8931311726356412 [0.535 0.609 0.731 0.853 1.014]\n"
     ]
    }
   ],
   "source": [
    "# Normality test for Alloy 1\n",
    "print(\"Alloy 1 - Normality Test\")\n",
    "shapiro_test1 = stats.shapiro(Dental[Dental['Alloy'] == 1]['Response'])\n",
    "print(\"Shapiro-Wilk test (p-value):\", shapiro_test1.pvalue)\n",
    "\n",
    "anderson_test1 = stats.anderson(Dental[Dental['Alloy'] == 1]['Response'], dist='norm')\n",
    "print(\"Anderson-Darling test (statistic, critical values):\", anderson_test1.statistic, anderson_test1.critical_values)\n",
    "\n",
    "# Normality test for Alloy 2\n",
    "print(\"\\nAlloy 2 - Normality Test\")\n",
    "shapiro_test2 = stats.shapiro(Dental[Dental['Alloy'] == 2]['Response'])\n",
    "print(\"Shapiro-Wilk test (p-value):\", shapiro_test2.pvalue)\n",
    "\n",
    "anderson_test2 = stats.anderson(Dental[Dental['Alloy'] == 2]['Response'], dist='norm')\n",
    "print(\"Anderson-Darling test (statistic, critical values):\", anderson_test2.statistic, anderson_test2.critical_values)"
   ]
  },
  {
   "cell_type": "code",
   "execution_count": 42,
   "id": "04f050de",
   "metadata": {},
   "outputs": [
    {
     "name": "stdout",
     "output_type": "stream",
     "text": [
      "Levene's Test - Alloy 1\n",
      "Levene's test (statistic, p-value): 1.4194717470917784 0.23669380462584474\n",
      "\n",
      "Levene's Test - Alloy 2\n",
      "Levene's test (statistic, p-value): 1.4194717470917784 0.23669380462584474\n"
     ]
    }
   ],
   "source": [
    "# Homogeniety\n",
    "# The Levene tests the Null Hypothesis that all input sample are from populations with equal variance\n",
    "# alpha = 0.05\n",
    "\n",
    "\n",
    "# Levene's test for Alloy 1\n",
    "print(\"Levene's Test - Alloy 1\")\n",
    "levene_test1 = levene(Dental[Dental['Alloy'] == 1]['Response'], Dental[Dental['Alloy'] == 2]['Response'])\n",
    "print(\"Levene's test (statistic, p-value):\", levene_test1.statistic, levene_test1.pvalue)\n",
    "\n",
    "# Levene's test for Alloy 2\n",
    "print(\"\\nLevene's Test - Alloy 2\")\n",
    "levene_test2 = levene(Dental[Dental['Alloy'] == 2]['Response'], Dental[Dental['Alloy'] == 1]['Response'])\n",
    "print(\"Levene's test (statistic, p-value):\", levene_test2.statistic, levene_test2.pvalue)"
   ]
  },
  {
   "cell_type": "markdown",
   "id": "c3417286",
   "metadata": {},
   "source": [
    "* The Levene's test will provide statistic and  p-value.Here p-value is greater then $\\alpha$"
   ]
  },
  {
   "cell_type": "markdown",
   "id": "d801dd5e",
   "metadata": {},
   "source": [
    "### Define null and alternative hypotheses"
   ]
  },
  {
   "cell_type": "markdown",
   "id": "fb0c4d25",
   "metadata": {},
   "source": [
    "Test whether there is any difference among the dentists on the implant hardness.\n",
    "Let take two Alloys as A1 and A2 \n",
    "\n",
    "**For A1:**\n",
    "\n",
    "Null Hypotheses states that, There is no difference among the dentists on the implant hardness for Alloy A1.\n",
    "\n",
    "Alternative hypothesis state that, There is a difference among the dentists on the implant hardness for Alloy A1.\n",
    "\n",
    "* $H_0$: $\\mu_{0}$ $=$ $A1$\n",
    "* $H_A$: $\\mu_{a}$ $\\neq$ $A1$\n",
    "\n",
    "**For A2:**\n",
    "\n",
    "Null Hypotheses states that, There is no difference among the dentists on the implant hardness for Alloy A2.\n",
    "\n",
    "Alternative hypothesis state that, There is a difference among the dentists on the implant hardness for Alloy A2.\n",
    "\n",
    "* $H_0$: $\\mu_{0}$ $=$ $A2$\n",
    "* $H_A$: $\\mu_{a}$ $\\neq$ $A2$"
   ]
  },
  {
   "cell_type": "code",
   "execution_count": 43,
   "id": "b219ab81",
   "metadata": {},
   "outputs": [
    {
     "name": "stdout",
     "output_type": "stream",
     "text": [
      "ANOVA Result for Alloy A1:\n",
      "              df         sum_sq       mean_sq         F    PR(>F)\n",
      "C(Dentist)   4.0  106683.688889  26670.922222  1.977112  0.116567\n",
      "Residual    40.0  539593.555556  13489.838889       NaN       NaN\n"
     ]
    }
   ],
   "source": [
    "# Perform ANOVA for Alloy A1\n",
    "model = ols('Response ~ C(Dentist)', data=Dental[Dental['Alloy'] == 1]).fit()\n",
    "anova_result = anova_lm(model)\n",
    "\n",
    "# Print the ANOVA result\n",
    "print(\"ANOVA Result for Alloy A1:\")\n",
    "print(anova_result)"
   ]
  },
  {
   "cell_type": "markdown",
   "id": "1e7347fc",
   "metadata": {},
   "source": [
    "* let significance level $\\alpha$=0.05\n",
    "* p-value = 0.116567, which is greater than$\\alpha$, so we fail to reject the Null hypothesis. We conclude that There is no difference among the dentists on the implant hardness for Alloy A1."
   ]
  },
  {
   "cell_type": "code",
   "execution_count": 44,
   "id": "c58c253b",
   "metadata": {},
   "outputs": [
    {
     "data": {
      "text/plain": [
       "<Axes: xlabel='Dentist', ylabel='Response'>"
      ]
     },
     "execution_count": 44,
     "metadata": {},
     "output_type": "execute_result"
    },
    {
     "data": {
      "image/png": "[encoded data removed]",
      "text/plain": [
       "<Figure size 640x480 with 1 Axes>"
      ]
     },
     "metadata": {},
     "output_type": "display_data"
    }
   ],
   "source": [
    "sns.pointplot(x='Dentist',y='Response',data=Dental[Dental['Alloy'] == 1],ci=False)"
   ]
  },
  {
   "cell_type": "code",
   "execution_count": 45,
   "id": "17d2b4a4",
   "metadata": {},
   "outputs": [
    {
     "name": "stdout",
     "output_type": "stream",
     "text": [
      "ANOVA Result for Alloy A2:\n",
      "              df        sum_sq       mean_sq         F    PR(>F)\n",
      "C(Dentist)   4.0  5.679791e+04  14199.477778  0.524835  0.718031\n",
      "Residual    40.0  1.082205e+06  27055.122222       NaN       NaN\n"
     ]
    }
   ],
   "source": [
    "# Perform ANOVA for Alloy A2\n",
    "model = ols('Response ~ C(Dentist)', data=Dental[Dental['Alloy'] == 2]).fit()\n",
    "anova_result = anova_lm(model)\n",
    "\n",
    "# Print the ANOVA result\n",
    "print(\"ANOVA Result for Alloy A2:\")\n",
    "print(anova_result)"
   ]
  },
  {
   "cell_type": "markdown",
   "id": "bf146182",
   "metadata": {},
   "source": [
    "* let significance level $\\alpha$=0.05\n",
    "* p-value = 0.718031, which is greater than$\\alpha$, so we fail to reject the Null hypothesis. We conclude that There is no difference among the dentists on the implant hardness for Alloy A2."
   ]
  },
  {
   "cell_type": "code",
   "execution_count": 46,
   "id": "cc7613ba",
   "metadata": {},
   "outputs": [
    {
     "data": {
      "text/plain": [
       "<Axes: xlabel='Dentist', ylabel='Response'>"
      ]
     },
     "execution_count": 46,
     "metadata": {},
     "output_type": "execute_result"
    },
    {
     "data": {
      "image/png": "[encoded data removed]",
      "text/plain": [
       "<Figure size 640x480 with 1 Axes>"
      ]
     },
     "metadata": {},
     "output_type": "display_data"
    }
   ],
   "source": [
    "sns.pointplot(x='Dentist',y='Response',data=Dental[Dental['Alloy'] == 2],ci=False)"
   ]
  },
  {
   "cell_type": "markdown",
   "id": "69cec48b",
   "metadata": {},
   "source": [
    "**Insights:**\n",
    "           Here, the p-value is greater than the significance level (usually 0.05), so it fails to reject the null hypothesis and concludes that there is no significant difference in variance among alloys 1 and 2."
   ]
  },
  {
   "cell_type": "markdown",
   "id": "90591af7",
   "metadata": {},
   "source": [
    "### 3. Irrespective of your conclusion in 2, we will continue with the testing procedure. What do you conclude regarding whether implant hardness depends on dentists? Clearly state your conclusion. If the null hypothesis is rejected, is it possible to identify which pairs of dentists differ?"
   ]
  },
  {
   "cell_type": "markdown",
   "id": "3c7a0f9f",
   "metadata": {},
   "source": [
    "Here, the p-value is greater than the significance level ($\\alpha$ = 0.05), so it fails to reject the null hypotheses and concludes that there is no significant difference in variance among alloys 1 and 2. That means implant hardness is the same across all dentists for both alloys 1 and 2.\n",
    "\n",
    "* If the null hypothesis is rejected, which means there is a significant difference, we can apply Tukey's test to identify which specific pairs of dentists differ significantly in terms of implant hardness. This test will help us compare the means of different dentists and determine which ones are significantly different from each other.\n",
    "\n",
    "**In above dataset null hypothesis is fail to rejected.**"
   ]
  },
  {
   "cell_type": "markdown",
   "id": "d18ad4f1",
   "metadata": {},
   "source": [
    "### 4. Now test whether there is any difference among the methods on the hardness of dental implant, separately for the two types of alloys. What are your conclusions? If the null hypothesis is rejected, is it possible to identify which pairs of methods differ?"
   ]
  },
  {
   "cell_type": "markdown",
   "id": "9d8f8816",
   "metadata": {},
   "source": [
    "Here, the p-value is greater than the significance level ($\\alpha$ = 0.05), so it fails to reject the null hypotheses"
   ]
  },
  {
   "cell_type": "markdown",
   "id": "d79e2e11",
   "metadata": {},
   "source": [
    "### 5. Now test whether there is any difference among the temperature levels on the hardness of dental implant, separately for the two types of alloys. What are your conclusions? If the null hypothesis is rejected, is it possible to identify which levels of temperatures differ?"
   ]
  },
  {
   "cell_type": "markdown",
   "id": "a4cc4d18",
   "metadata": {},
   "source": [
    "#### Define null and alternative hypotheses"
   ]
  },
  {
   "cell_type": "markdown",
   "id": "94f21536",
   "metadata": {},
   "source": [
    "Test whether there is any difference among the temperature levels on the implant hardness.\n",
    "Let take two Alloys as A1 and A2 \n",
    "\n",
    "**For A1:**\n",
    "\n",
    "Null Hypotheses states that, There is no difference among the temperature levels on the implant hardness for Alloy A1.\n",
    "\n",
    "Alternative hypothesis state that, There is a difference among the temperature levels on the implant hardness for Alloy A1.\n",
    "\n",
    "* $H_0$: $\\mu_{0}$ $=$ $TA1$\n",
    "* $H_A$: $\\mu_{a}$ $\\neq$ $TA1$\n",
    "\n",
    "**For A2:**\n",
    "\n",
    "Null Hypotheses states that, There is no difference among the temperature levels on the implant hardness for Alloy A2.\n",
    "\n",
    "Alternative hypothesis state that, There is a difference among the temperature levels on the implant hardness for Alloy A2.\n",
    "\n",
    "* $H_0$: $\\mu_{0}$ $=$ $TA2$\n",
    "* $H_A$: $\\mu_{a}$ $\\neq$ $TA2$"
   ]
  },
  {
   "cell_type": "code",
   "execution_count": 47,
   "id": "23136aec",
   "metadata": {},
   "outputs": [
    {
     "data": {
      "text/html": [
       "<div>\n",
       "<style scoped>\n",
       "    .dataframe tbody tr th:only-of-type {\n",
       "        vertical-align: middle;\n",
       "    }\n",
       "\n",
       "    .dataframe tbody tr th {\n",
       "        vertical-align: top;\n",
       "    }\n",
       "\n",
       "    .dataframe thead th {\n",
       "        text-align: right;\n",
       "    }\n",
       "</style>\n",
       "<table border=\"1\" class=\"dataframe\">\n",
       "  <thead>\n",
       "    <tr style=\"text-align: right;\">\n",
       "      <th></th>\n",
       "      <th>Dentist</th>\n",
       "      <th>Method</th>\n",
       "      <th>Alloy</th>\n",
       "      <th>Temp</th>\n",
       "      <th>Response</th>\n",
       "    </tr>\n",
       "  </thead>\n",
       "  <tbody>\n",
       "    <tr>\n",
       "      <th>0</th>\n",
       "      <td>1</td>\n",
       "      <td>1</td>\n",
       "      <td>1</td>\n",
       "      <td>1500</td>\n",
       "      <td>813</td>\n",
       "    </tr>\n",
       "    <tr>\n",
       "      <th>1</th>\n",
       "      <td>1</td>\n",
       "      <td>1</td>\n",
       "      <td>1</td>\n",
       "      <td>1600</td>\n",
       "      <td>792</td>\n",
       "    </tr>\n",
       "    <tr>\n",
       "      <th>2</th>\n",
       "      <td>1</td>\n",
       "      <td>1</td>\n",
       "      <td>1</td>\n",
       "      <td>1700</td>\n",
       "      <td>792</td>\n",
       "    </tr>\n",
       "    <tr>\n",
       "      <th>3</th>\n",
       "      <td>1</td>\n",
       "      <td>1</td>\n",
       "      <td>2</td>\n",
       "      <td>1500</td>\n",
       "      <td>907</td>\n",
       "    </tr>\n",
       "    <tr>\n",
       "      <th>4</th>\n",
       "      <td>1</td>\n",
       "      <td>1</td>\n",
       "      <td>2</td>\n",
       "      <td>1600</td>\n",
       "      <td>792</td>\n",
       "    </tr>\n",
       "    <tr>\n",
       "      <th>...</th>\n",
       "      <td>...</td>\n",
       "      <td>...</td>\n",
       "      <td>...</td>\n",
       "      <td>...</td>\n",
       "      <td>...</td>\n",
       "    </tr>\n",
       "    <tr>\n",
       "      <th>85</th>\n",
       "      <td>5</td>\n",
       "      <td>3</td>\n",
       "      <td>1</td>\n",
       "      <td>1600</td>\n",
       "      <td>483</td>\n",
       "    </tr>\n",
       "    <tr>\n",
       "      <th>86</th>\n",
       "      <td>5</td>\n",
       "      <td>3</td>\n",
       "      <td>1</td>\n",
       "      <td>1700</td>\n",
       "      <td>405</td>\n",
       "    </tr>\n",
       "    <tr>\n",
       "      <th>87</th>\n",
       "      <td>5</td>\n",
       "      <td>3</td>\n",
       "      <td>2</td>\n",
       "      <td>1500</td>\n",
       "      <td>536</td>\n",
       "    </tr>\n",
       "    <tr>\n",
       "      <th>88</th>\n",
       "      <td>5</td>\n",
       "      <td>3</td>\n",
       "      <td>2</td>\n",
       "      <td>1600</td>\n",
       "      <td>405</td>\n",
       "    </tr>\n",
       "    <tr>\n",
       "      <th>89</th>\n",
       "      <td>5</td>\n",
       "      <td>3</td>\n",
       "      <td>2</td>\n",
       "      <td>1700</td>\n",
       "      <td>312</td>\n",
       "    </tr>\n",
       "  </tbody>\n",
       "</table>\n",
       "<p>90 rows × 5 columns</p>\n",
       "</div>"
      ],
      "text/plain": [
       "    Dentist  Method  Alloy  Temp  Response\n",
       "0         1       1      1  1500       813\n",
       "1         1       1      1  1600       792\n",
       "2         1       1      1  1700       792\n",
       "3         1       1      2  1500       907\n",
       "4         1       1      2  1600       792\n",
       "..      ...     ...    ...   ...       ...\n",
       "85        5       3      1  1600       483\n",
       "86        5       3      1  1700       405\n",
       "87        5       3      2  1500       536\n",
       "88        5       3      2  1600       405\n",
       "89        5       3      2  1700       312\n",
       "\n",
       "[90 rows x 5 columns]"
      ]
     },
     "execution_count": 47,
     "metadata": {},
     "output_type": "execute_result"
    }
   ],
   "source": [
    "Dental"
   ]
  },
  {
   "cell_type": "code",
   "execution_count": 48,
   "id": "f7956104",
   "metadata": {},
   "outputs": [
    {
     "data": {
      "text/html": [
       "<div>\n",
       "<style scoped>\n",
       "    .dataframe tbody tr th:only-of-type {\n",
       "        vertical-align: middle;\n",
       "    }\n",
       "\n",
       "    .dataframe tbody tr th {\n",
       "        vertical-align: top;\n",
       "    }\n",
       "\n",
       "    .dataframe thead th {\n",
       "        text-align: right;\n",
       "    }\n",
       "</style>\n",
       "<table border=\"1\" class=\"dataframe\">\n",
       "  <thead>\n",
       "    <tr style=\"text-align: right;\">\n",
       "      <th></th>\n",
       "      <th>Dentist</th>\n",
       "      <th>Method</th>\n",
       "      <th>Alloy</th>\n",
       "      <th>Temp</th>\n",
       "      <th>Response</th>\n",
       "    </tr>\n",
       "  </thead>\n",
       "  <tbody>\n",
       "    <tr>\n",
       "      <th>count</th>\n",
       "      <td>90.000000</td>\n",
       "      <td>90.000000</td>\n",
       "      <td>90.000000</td>\n",
       "      <td>90.000000</td>\n",
       "      <td>90.000000</td>\n",
       "    </tr>\n",
       "    <tr>\n",
       "      <th>mean</th>\n",
       "      <td>3.000000</td>\n",
       "      <td>2.000000</td>\n",
       "      <td>1.500000</td>\n",
       "      <td>1600.000000</td>\n",
       "      <td>741.777778</td>\n",
       "    </tr>\n",
       "    <tr>\n",
       "      <th>std</th>\n",
       "      <td>1.422136</td>\n",
       "      <td>0.821071</td>\n",
       "      <td>0.502801</td>\n",
       "      <td>82.107083</td>\n",
       "      <td>145.767845</td>\n",
       "    </tr>\n",
       "    <tr>\n",
       "      <th>min</th>\n",
       "      <td>1.000000</td>\n",
       "      <td>1.000000</td>\n",
       "      <td>1.000000</td>\n",
       "      <td>1500.000000</td>\n",
       "      <td>289.000000</td>\n",
       "    </tr>\n",
       "    <tr>\n",
       "      <th>25%</th>\n",
       "      <td>2.000000</td>\n",
       "      <td>1.000000</td>\n",
       "      <td>1.000000</td>\n",
       "      <td>1500.000000</td>\n",
       "      <td>698.000000</td>\n",
       "    </tr>\n",
       "    <tr>\n",
       "      <th>50%</th>\n",
       "      <td>3.000000</td>\n",
       "      <td>2.000000</td>\n",
       "      <td>1.500000</td>\n",
       "      <td>1600.000000</td>\n",
       "      <td>767.000000</td>\n",
       "    </tr>\n",
       "    <tr>\n",
       "      <th>75%</th>\n",
       "      <td>4.000000</td>\n",
       "      <td>3.000000</td>\n",
       "      <td>2.000000</td>\n",
       "      <td>1700.000000</td>\n",
       "      <td>824.000000</td>\n",
       "    </tr>\n",
       "    <tr>\n",
       "      <th>max</th>\n",
       "      <td>5.000000</td>\n",
       "      <td>3.000000</td>\n",
       "      <td>2.000000</td>\n",
       "      <td>1700.000000</td>\n",
       "      <td>1115.000000</td>\n",
       "    </tr>\n",
       "  </tbody>\n",
       "</table>\n",
       "</div>"
      ],
      "text/plain": [
       "         Dentist     Method      Alloy         Temp     Response\n",
       "count  90.000000  90.000000  90.000000    90.000000    90.000000\n",
       "mean    3.000000   2.000000   1.500000  1600.000000   741.777778\n",
       "std     1.422136   0.821071   0.502801    82.107083   145.767845\n",
       "min     1.000000   1.000000   1.000000  1500.000000   289.000000\n",
       "25%     2.000000   1.000000   1.000000  1500.000000   698.000000\n",
       "50%     3.000000   2.000000   1.500000  1600.000000   767.000000\n",
       "75%     4.000000   3.000000   2.000000  1700.000000   824.000000\n",
       "max     5.000000   3.000000   2.000000  1700.000000  1115.000000"
      ]
     },
     "execution_count": 48,
     "metadata": {},
     "output_type": "execute_result"
    }
   ],
   "source": [
    "Dental.describe() "
   ]
  },
  {
   "cell_type": "code",
   "execution_count": 49,
   "id": "39dcf6b2",
   "metadata": {},
   "outputs": [
    {
     "name": "stdout",
     "output_type": "stream",
     "text": [
      "ANOVA Test - Alloy 1\n",
      "ANOVA test (F-statistic, p-value): 0.3352235344077172 0.7170741113686678\n",
      "\n",
      "ANOVA Test - Alloy 2\n",
      "ANOVA test (F-statistic, p-value): 1.883492290995591 0.16467846603141556\n"
     ]
    }
   ],
   "source": [
    "# ANOVA test for Alloy 1\n",
    "print(\"ANOVA Test - Alloy 1\")\n",
    "anova_result1 = f_oneway(Dental[(Dental['Alloy'] == 1) & (Dental['Temp'] == 1500)]['Response'],\n",
    "                         Dental[(Dental['Alloy'] == 1) & (Dental['Temp'] == 1600)]['Response'],\n",
    "                         Dental[(Dental['Alloy'] == 1) & (Dental['Temp'] == 1700)]['Response'])\n",
    "print(\"ANOVA test (F-statistic, p-value):\", anova_result1.statistic, anova_result1.pvalue)\n",
    "\n",
    "# ANOVA test for Alloy 2\n",
    "print(\"\\nANOVA Test - Alloy 2\")\n",
    "anova_result2 = f_oneway(Dental[(Dental['Alloy'] == 2) & (Dental['Temp'] == 1500)]['Response'],\n",
    "                         Dental[(Dental['Alloy'] == 2) & (Dental['Temp'] == 1600)]['Response'],\n",
    "                         Dental[(Dental['Alloy'] == 2) & (Dental['Temp'] == 1700)]['Response'])\n",
    "print(\"ANOVA test (F-statistic, p-value):\", anova_result2.statistic, anova_result2.pvalue)\n"
   ]
  },
  {
   "cell_type": "markdown",
   "id": "908ea5f3",
   "metadata": {},
   "source": [
    "**Insights:**\n",
    "- The p-value of ANOVA Test - Alloy 1 is 0.71707, Which is greater than the significance level ($\\alpha$ = 0.05), so it fails to reject the null hypotheses.\n",
    "- The p-value of ANOVA Test - Alloy 2 is 0.16467, Which is greater than the significance level ($\\alpha$ = 0.05), so it fails to reject the null hypotheses\n",
    "\n",
    "Conclude that there is no significant difference in variance among alloys 1 and 2. That means the temperature levels of dental implants hardness for alloys 1 and 2 are the same."
   ]
  },
  {
   "cell_type": "markdown",
   "id": "73930b25",
   "metadata": {},
   "source": [
    "### 6. Consider the interaction effect of dentist and method and comment on the interaction plot, separately for the two types of alloys?"
   ]
  },
  {
   "cell_type": "code",
   "execution_count": 50,
   "id": "dec509f5",
   "metadata": {},
   "outputs": [
    {
     "data": {
      "image/png": "[encoded data removed]",
      "text/plain": [
       "<Figure size 640x480 with 1 Axes>"
      ]
     },
     "metadata": {},
     "output_type": "display_data"
    }
   ],
   "source": [
    "# Interaction plot for Alloy 1\n",
    "sns.pointplot(x='Dentist', y='Response', hue='Method', data=Dental[Dental['Alloy'] == 1], ci=False)\n",
    "plt.title(\"Interaction Plot - Alloy 1\")\n",
    "plt.show()"
   ]
  },
  {
   "cell_type": "code",
   "execution_count": 51,
   "id": "5c65f909",
   "metadata": {},
   "outputs": [
    {
     "data": {
      "image/png": "[encoded data removed]",
      "text/plain": [
       "<Figure size 640x480 with 1 Axes>"
      ]
     },
     "metadata": {},
     "output_type": "display_data"
    }
   ],
   "source": [
    "# Interaction plot for Alloy 2\n",
    "sns.pointplot(x='Dentist', y='Response', hue='Method', data=Dental[Dental['Alloy'] == 2], ci=False)\n",
    "plt.title(\"Interaction Plot - Alloy 2\")\n",
    "plt.show()"
   ]
  },
  {
   "cell_type": "markdown",
   "id": "31780bc5",
   "metadata": {},
   "source": [
    "**There is a significant interaction effect between dentist and method on implant hardness of Alloy1 for Method 1 to 3 but in Alloy2 for Method 1 and 2. Hence, it indicates an interaction effect.**"
   ]
  },
  {
   "cell_type": "markdown",
   "id": "b773d2f6",
   "metadata": {},
   "source": [
    "### 7. Now consider the effect of both factors, dentist, and method, separately on each alloy. What do you conclude? Is it possible to identify which dentists are different, which methods are different, and which interaction levels are different?"
   ]
  },
  {
   "cell_type": "code",
   "execution_count": 52,
   "id": "4f45206a",
   "metadata": {},
   "outputs": [
    {
     "name": "stdout",
     "output_type": "stream",
     "text": [
      "Two-way ANOVA for Alloy 1:\n",
      "                 sum_sq    df          F    PR(>F)\n",
      "Dentist    94802.677778   1.0   9.160485  0.004212\n",
      "Method    116812.800000   1.0  11.287254  0.001670\n",
      "Residual  434661.766667  42.0        NaN       NaN\n",
      "\n"
     ]
    }
   ],
   "source": [
    "# Two-way ANOVA for Alloy 1\n",
    "model_alloy1 = ols('Response ~ Dentist + Method', data=Dental[Dental['Alloy'] == 1]).fit()\n",
    "anova_table_alloy1 = sm.stats.anova_lm(model_alloy1, typ=2)\n",
    "print(\"Two-way ANOVA for Alloy 1:\")\n",
    "print(anova_table_alloy1)\n",
    "print()"
   ]
  },
  {
   "cell_type": "markdown",
   "id": "b76284c0",
   "metadata": {},
   "source": [
    "The null hypothesis rejected for both factors Dentist and Method because the p-values repectivily 0.0042 and 0.0016, both are less than the significance level ($\\alpha$ = 0.05) that means there are significant differences among Dentists and Method regarding the implant hardness for Alloy 1."
   ]
  },
  {
   "cell_type": "code",
   "execution_count": 53,
   "id": "63743b41",
   "metadata": {},
   "outputs": [
    {
     "name": "stdout",
     "output_type": "stream",
     "text": [
      "Two-way ANOVA for Alloy 2:\n",
      "                 sum_sq    df          F    PR(>F)\n",
      "Dentist    54513.611111   1.0   3.022503  0.089443\n",
      "Method    326980.800000   1.0  18.129428  0.000113\n",
      "Residual  757508.388889  42.0        NaN       NaN\n",
      "\n"
     ]
    }
   ],
   "source": [
    "# Two-way ANOVA for Alloy 2\n",
    "model_alloy2 = ols('Response ~ Dentist + Method', data=Dental[Dental['Alloy'] == 2]).fit()\n",
    "anova_table_alloy2 = sm.stats.anova_lm(model_alloy2, typ=2)\n",
    "print(\"Two-way ANOVA for Alloy 2:\")\n",
    "print(anova_table_alloy2)\n",
    "print()"
   ]
  },
  {
   "cell_type": "markdown",
   "id": "63a144f6",
   "metadata": {},
   "source": [
    "Dentist do not have a significant impact on the implant hardness because p-value 0.0894 is greater than signification level 0.05, and the method used for the implant has a significant effect on the implant hardness because p-value 0.0003 is less than signification level 0.05 for Alloy 2. So, we perform the interaction between dentist and method."
   ]
  },
  {
   "cell_type": "code",
   "execution_count": 54,
   "id": "250eaf49",
   "metadata": {},
   "outputs": [
    {
     "name": "stdout",
     "output_type": "stream",
     "text": [
      "Two-way ANOVA for Alloy 2:\n",
      "                       sum_sq    df          F    PR(>F)\n",
      "Dentist          54513.611111   1.0   3.163974  0.082695\n",
      "Method          326980.800000   1.0  18.977993  0.000086\n",
      "Dentist:Method   51100.016667   1.0   2.965849  0.092577\n",
      "Residual        706408.372222  41.0        NaN       NaN\n",
      "\n"
     ]
    }
   ],
   "source": [
    "model_alloy2 = ols('Response ~ Dentist + Method + Dentist:Method', data=Dental[Dental['Alloy'] == 2]).fit()\n",
    "anova_table_alloy2 = sm.stats.anova_lm(model_alloy2, typ=2)\n",
    "print(\"Two-way ANOVA for Alloy 2:\")\n",
    "print(anova_table_alloy2)\n",
    "print()"
   ]
  },
  {
   "cell_type": "markdown",
   "id": "ec7ca86a",
   "metadata": {},
   "source": [
    "Here, the Interaction of Dentist:Method's p-value of 0.0925 is greater than the signification level of 0.05, so it does not significantly influence the implant hardness for Alloy 2"
   ]
  },
  {
   "cell_type": "markdown",
   "id": "f589679b",
   "metadata": {},
   "source": [
    "## END"
   ]
  }
 ],
 "metadata": {
  "kernelspec": {
   "display_name": "Python 3 (ipykernel)",
   "language": "python",
   "name": "python3"
  },
  "language_info": {
   "codemirror_mode": {
    "name": "ipython",
    "version": 3
   },
   "file_extension": ".py",
   "mimetype": "text/x-python",
   "name": "python",
   "nbconvert_exporter": "python",
   "pygments_lexer": "ipython3",
   "version": "3.10.9"
  }
 },
 "nbformat": 4,
 "nbformat_minor": 5
}
